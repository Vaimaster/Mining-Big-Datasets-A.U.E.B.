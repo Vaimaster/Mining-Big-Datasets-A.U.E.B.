{
 "cells": [
  {
   "attachments": {},
   "cell_type": "markdown",
   "metadata": {},
   "source": [
    "# <span style=\"font-size: 1em\">Data Mining</span><span style=\"font-size: 0.8em\"> Assignment 1</span>\n",
    "<h3>Data Mining 2022-2023</h3>\n",
    "<h5>M.Sc. In Business Analytics (Part Time) 2022-2024 at Athens University of Economics and Business (A.U.E.B.)</h5>\n",
    "\n",
    "---\n",
    "\n",
    "> Student: Panagiotis G. Vaidomarkakis<br />\n",
    "> Student I.D.: p2822203<br />\n",
    "> Professor: Yannis Kotidis, Associate Professor<br />\n",
    "> Assistant: Ioanna Filippidou, Teacher Assistant<br />\n",
    "> Due Date: 30/05/2023"
   ]
  },
  {
   "attachments": {},
   "cell_type": "markdown",
   "metadata": {},
   "source": [
    "## Table Of Contents:\n",
    "* [Importing Libraries](#first-bullet)\n",
    "* [$1^{st}$ Question : Import and pre-process the dataset with users](#q1)\n",
    "* [$2^{nd}$ Question : Compute exact Jaccard similarity of users](#q2)\n",
    "* [$3^{rd}$ Question : Compute similarity using Min-hash signatures](#q3)\n",
    "* [$4^{th}$ Question : Locate similar users using LSH index](#q4)"
   ]
  },
  {
   "attachments": {},
   "cell_type": "markdown",
   "metadata": {},
   "source": [
    "## Importing Libraries <a class=\"anchor\" id=\"first-bullet\"></a>\n",
    "In the following lines, we will import all the nessecary liblaries in order to be able to execute all the following commands. <br> First, we will run a check to see if the PC containing this Jupiter Notebook file has all the necessary libraries and if it hasn't, it will automatically download them in order to import them:"
   ]
  },
  {
   "cell_type": "code",
   "execution_count": 1,
   "metadata": {},
   "outputs": [
    {
     "name": "stdout",
     "output_type": "stream",
     "text": [
      "pandas is already installed.\n",
      "numpy is already installed.\n"
     ]
    }
   ],
   "source": [
    "import importlib\n",
    "import subprocess\n",
    "\n",
    "def install_library(lib):\n",
    "    try:\n",
    "        importlib.import_module(lib)\n",
    "        print(f'{lib} is already installed.')\n",
    "    except ImportError:\n",
    "        print(f'{lib} is not installed. Installing now...')\n",
    "        subprocess.call(['pip', 'install', lib])\n",
    "\n",
    "libraries = ['pandas','numpy']\n",
    "\n",
    "for lib in libraries:\n",
    "    install_library(lib)"
   ]
  },
  {
   "cell_type": "code",
   "execution_count": 2,
   "metadata": {},
   "outputs": [],
   "source": [
    "import pandas as pd\n",
    "import contextlib\n",
    "import numpy as np\n",
    "from itertools import combinations\n",
    "import random"
   ]
  },
  {
   "attachments": {},
   "cell_type": "markdown",
   "metadata": {},
   "source": [
    "## $1^{st}$ Question : Import and pre-process the dataset with users<a class=\"anchor\" id=\"q1\"></a>\n",
    "I will use the *movies_df* to load the dataset.<br>\n",
    "We know that the delimiter is **|** so we will use the as the delimiter and also we need to name the columns.<br>\n",
    "Other than that, we use *encoding = 'latin1'* because it wasn't recognizable with *UTF-8*.<br>\n",
    "In the end, we only need the *MovieId* column and the *Title*."
   ]
  },
  {
   "cell_type": "code",
   "execution_count": 3,
   "metadata": {},
   "outputs": [
    {
     "data": {
      "text/html": [
       "<div>\n",
       "<style scoped>\n",
       "    .dataframe tbody tr th:only-of-type {\n",
       "        vertical-align: middle;\n",
       "    }\n",
       "\n",
       "    .dataframe tbody tr th {\n",
       "        vertical-align: top;\n",
       "    }\n",
       "\n",
       "    .dataframe thead th {\n",
       "        text-align: right;\n",
       "    }\n",
       "</style>\n",
       "<table border=\"1\" class=\"dataframe\">\n",
       "  <thead>\n",
       "    <tr style=\"text-align: right;\">\n",
       "      <th></th>\n",
       "      <th>MovieId</th>\n",
       "      <th>Title (Release Year)</th>\n",
       "    </tr>\n",
       "  </thead>\n",
       "  <tbody>\n",
       "    <tr>\n",
       "      <th>0</th>\n",
       "      <td>1</td>\n",
       "      <td>Toy Story (1995)</td>\n",
       "    </tr>\n",
       "    <tr>\n",
       "      <th>1</th>\n",
       "      <td>2</td>\n",
       "      <td>GoldenEye (1995)</td>\n",
       "    </tr>\n",
       "    <tr>\n",
       "      <th>2</th>\n",
       "      <td>3</td>\n",
       "      <td>Four Rooms (1995)</td>\n",
       "    </tr>\n",
       "    <tr>\n",
       "      <th>3</th>\n",
       "      <td>4</td>\n",
       "      <td>Get Shorty (1995)</td>\n",
       "    </tr>\n",
       "    <tr>\n",
       "      <th>4</th>\n",
       "      <td>5</td>\n",
       "      <td>Copycat (1995)</td>\n",
       "    </tr>\n",
       "    <tr>\n",
       "      <th>...</th>\n",
       "      <td>...</td>\n",
       "      <td>...</td>\n",
       "    </tr>\n",
       "    <tr>\n",
       "      <th>1677</th>\n",
       "      <td>1678</td>\n",
       "      <td>Mat' i syn (1997)</td>\n",
       "    </tr>\n",
       "    <tr>\n",
       "      <th>1678</th>\n",
       "      <td>1679</td>\n",
       "      <td>B. Monkey (1998)</td>\n",
       "    </tr>\n",
       "    <tr>\n",
       "      <th>1679</th>\n",
       "      <td>1680</td>\n",
       "      <td>Sliding Doors (1998)</td>\n",
       "    </tr>\n",
       "    <tr>\n",
       "      <th>1680</th>\n",
       "      <td>1681</td>\n",
       "      <td>You So Crazy (1994)</td>\n",
       "    </tr>\n",
       "    <tr>\n",
       "      <th>1681</th>\n",
       "      <td>1682</td>\n",
       "      <td>Scream of Stone (Schrei aus Stein) (1991)</td>\n",
       "    </tr>\n",
       "  </tbody>\n",
       "</table>\n",
       "<p>1682 rows × 2 columns</p>\n",
       "</div>"
      ],
      "text/plain": [
       "      MovieId                       Title (Release Year)\n",
       "0           1                           Toy Story (1995)\n",
       "1           2                           GoldenEye (1995)\n",
       "2           3                          Four Rooms (1995)\n",
       "3           4                          Get Shorty (1995)\n",
       "4           5                             Copycat (1995)\n",
       "...       ...                                        ...\n",
       "1677     1678                          Mat' i syn (1997)\n",
       "1678     1679                           B. Monkey (1998)\n",
       "1679     1680                       Sliding Doors (1998)\n",
       "1680     1681                        You So Crazy (1994)\n",
       "1681     1682  Scream of Stone (Schrei aus Stein) (1991)\n",
       "\n",
       "[1682 rows x 2 columns]"
      ]
     },
     "execution_count": 3,
     "metadata": {},
     "output_type": "execute_result"
    }
   ],
   "source": [
    "movies_df = pd.read_csv('movies.txt', delimiter='|', names=['MovieId', 'Title (Release Year)', 'Release Date', 'IMDB link'], encoding='latin1',usecols=[0,1,2,4])\n",
    "#movies_df['Release Date'] = pd.to_datetime(movies_df['Release Date'],format='%d-%b-%Y')\n",
    "movies_df.drop(['Release Date', 'IMDB link'],axis=1,inplace=True)\n",
    "movies_df"
   ]
  },
  {
   "attachments": {},
   "cell_type": "markdown",
   "metadata": {},
   "source": [
    "First, we need to check for NAs values."
   ]
  },
  {
   "cell_type": "code",
   "execution_count": 4,
   "metadata": {},
   "outputs": [
    {
     "data": {
      "text/plain": [
       "MovieId                 0\n",
       "Title (Release Year)    0\n",
       "dtype: int64"
      ]
     },
     "execution_count": 4,
     "metadata": {},
     "output_type": "execute_result"
    }
   ],
   "source": [
    "movies_df.isna().sum()"
   ]
  },
  {
   "attachments": {},
   "cell_type": "markdown",
   "metadata": {},
   "source": [
    "Then, we need to see if the mapping is right, from 1 to 1682."
   ]
  },
  {
   "cell_type": "code",
   "execution_count": 5,
   "metadata": {},
   "outputs": [
    {
     "data": {
      "text/html": [
       "<div>\n",
       "<style scoped>\n",
       "    .dataframe tbody tr th:only-of-type {\n",
       "        vertical-align: middle;\n",
       "    }\n",
       "\n",
       "    .dataframe tbody tr th {\n",
       "        vertical-align: top;\n",
       "    }\n",
       "\n",
       "    .dataframe thead th {\n",
       "        text-align: right;\n",
       "    }\n",
       "</style>\n",
       "<table border=\"1\" class=\"dataframe\">\n",
       "  <thead>\n",
       "    <tr style=\"text-align: right;\">\n",
       "      <th></th>\n",
       "      <th>MovieId</th>\n",
       "    </tr>\n",
       "  </thead>\n",
       "  <tbody>\n",
       "    <tr>\n",
       "      <th>count</th>\n",
       "      <td>1682.00</td>\n",
       "    </tr>\n",
       "    <tr>\n",
       "      <th>mean</th>\n",
       "      <td>841.50</td>\n",
       "    </tr>\n",
       "    <tr>\n",
       "      <th>std</th>\n",
       "      <td>485.70</td>\n",
       "    </tr>\n",
       "    <tr>\n",
       "      <th>min</th>\n",
       "      <td>1.00</td>\n",
       "    </tr>\n",
       "    <tr>\n",
       "      <th>25%</th>\n",
       "      <td>421.25</td>\n",
       "    </tr>\n",
       "    <tr>\n",
       "      <th>50%</th>\n",
       "      <td>841.50</td>\n",
       "    </tr>\n",
       "    <tr>\n",
       "      <th>75%</th>\n",
       "      <td>1261.75</td>\n",
       "    </tr>\n",
       "    <tr>\n",
       "      <th>max</th>\n",
       "      <td>1682.00</td>\n",
       "    </tr>\n",
       "  </tbody>\n",
       "</table>\n",
       "</div>"
      ],
      "text/plain": [
       "       MovieId\n",
       "count  1682.00\n",
       "mean    841.50\n",
       "std     485.70\n",
       "min       1.00\n",
       "25%     421.25\n",
       "50%     841.50\n",
       "75%    1261.75\n",
       "max    1682.00"
      ]
     },
     "execution_count": 5,
     "metadata": {},
     "output_type": "execute_result"
    }
   ],
   "source": [
    "round(movies_df.describe(),2)"
   ]
  },
  {
   "attachments": {},
   "cell_type": "markdown",
   "metadata": {},
   "source": [
    "Now, we will check for duplicates."
   ]
  },
  {
   "cell_type": "code",
   "execution_count": 6,
   "metadata": {},
   "outputs": [
    {
     "name": "stdout",
     "output_type": "stream",
     "text": [
      "\n",
      "We have 18 duplicated movies in the movie dataframe.\n"
     ]
    }
   ],
   "source": [
    "# Find duplicate movies based on the 'title' column\n",
    "duplicate_movies = movies_df[movies_df.duplicated(subset=['Title (Release Year)'], keep=False)]\n",
    "with open('duplicated movies.txt', 'w') as f, contextlib.redirect_stdout(f):\n",
    "    print(duplicate_movies)\n",
    "print(f\"\\nWe have\",int(len(duplicate_movies)/2),\"duplicated movies in the movie dataframe.\")"
   ]
  },
  {
   "attachments": {},
   "cell_type": "markdown",
   "metadata": {},
   "source": [
    "Now, we need to delete duplicated movies in order to minimize the set of the movies. In the end, there is a print which shows us the old values and the new values that remained."
   ]
  },
  {
   "cell_type": "code",
   "execution_count": 7,
   "metadata": {},
   "outputs": [
    {
     "name": "stdout",
     "output_type": "stream",
     "text": [
      "Updated DataFrame:\n",
      "      MovieId                       Title (Release Year)\n",
      "0           1                           Toy Story (1995)\n",
      "1           2                           GoldenEye (1995)\n",
      "2           3                          Four Rooms (1995)\n",
      "3           4                          Get Shorty (1995)\n",
      "4           5                             Copycat (1995)\n",
      "...       ...                                        ...\n",
      "1659     1677                       Sweet Nothing (1995)\n",
      "1660     1678                          Mat' i syn (1997)\n",
      "1661     1679                           B. Monkey (1998)\n",
      "1662     1681                        You So Crazy (1994)\n",
      "1663     1682  Scream of Stone (Schrei aus Stein) (1991)\n",
      "\n",
      "[1664 rows x 2 columns]\n",
      "\n",
      "Deleted MovieIds:\n",
      "{670: 573, 1650: 1645, 1654: 1234, 268: 246, 1606: 309, 1257: 1256, 348: 329, 500: 304, 1617: 1175, 1607: 1395, 865: 305, 680: 266, 881: 876, 1625: 1477, 1680: 1429, 1658: 711, 1003: 878, 303: 297}\n",
      "\n",
      "We have 18 duplicated movies in the movie dataframe.\n"
     ]
    }
   ],
   "source": [
    "deleted_movie_ids = {}\n",
    "\n",
    "for title, group in duplicate_movies.groupby('Title (Release Year)'):\n",
    "    # Find the duplicate with the lower MovieId\n",
    "    duplicate_with_lower_id = group.sort_values('MovieId').iloc[0]\n",
    "    \n",
    "    # Add the deleted MovieIds to the dictionary\n",
    "    deleted_movie_ids.update({movie_id: duplicate_with_lower_id['MovieId'] for movie_id in group['MovieId'] if movie_id != duplicate_with_lower_id['MovieId']})\n",
    "\n",
    "# Drop the rows with duplicates\n",
    "movies_df = movies_df.drop(movies_df[movies_df.duplicated('Title (Release Year)', keep='first')].index).reset_index(drop=True)\n",
    "\n",
    "# Print the resulting DataFrame and the dictionary of deleted MovieIds\n",
    "print('Updated DataFrame:')\n",
    "print(movies_df)\n",
    "print('\\nDeleted MovieIds:')\n",
    "print(deleted_movie_ids)\n",
    "print(f\"\\nWe have\",int(len(deleted_movie_ids)),\"duplicated movies in the movie dataframe.\")"
   ]
  },
  {
   "attachments": {},
   "cell_type": "markdown",
   "metadata": {},
   "source": [
    "As we can see, we had 18 duplicated movies.<br>\n",
    "Let's now open users with the same procedure as before."
   ]
  },
  {
   "cell_type": "code",
   "execution_count": 8,
   "metadata": {},
   "outputs": [
    {
     "data": {
      "text/html": [
       "<div>\n",
       "<style scoped>\n",
       "    .dataframe tbody tr th:only-of-type {\n",
       "        vertical-align: middle;\n",
       "    }\n",
       "\n",
       "    .dataframe tbody tr th {\n",
       "        vertical-align: top;\n",
       "    }\n",
       "\n",
       "    .dataframe thead th {\n",
       "        text-align: right;\n",
       "    }\n",
       "</style>\n",
       "<table border=\"1\" class=\"dataframe\">\n",
       "  <thead>\n",
       "    <tr style=\"text-align: right;\">\n",
       "      <th></th>\n",
       "      <th>UserId</th>\n",
       "      <th>Age</th>\n",
       "      <th>Gender</th>\n",
       "      <th>Occupation</th>\n",
       "      <th>Postcode</th>\n",
       "    </tr>\n",
       "  </thead>\n",
       "  <tbody>\n",
       "    <tr>\n",
       "      <th>0</th>\n",
       "      <td>1</td>\n",
       "      <td>24</td>\n",
       "      <td>M</td>\n",
       "      <td>technician</td>\n",
       "      <td>85711</td>\n",
       "    </tr>\n",
       "    <tr>\n",
       "      <th>1</th>\n",
       "      <td>2</td>\n",
       "      <td>53</td>\n",
       "      <td>F</td>\n",
       "      <td>other</td>\n",
       "      <td>94043</td>\n",
       "    </tr>\n",
       "    <tr>\n",
       "      <th>2</th>\n",
       "      <td>3</td>\n",
       "      <td>23</td>\n",
       "      <td>M</td>\n",
       "      <td>writer</td>\n",
       "      <td>32067</td>\n",
       "    </tr>\n",
       "    <tr>\n",
       "      <th>3</th>\n",
       "      <td>4</td>\n",
       "      <td>24</td>\n",
       "      <td>M</td>\n",
       "      <td>technician</td>\n",
       "      <td>43537</td>\n",
       "    </tr>\n",
       "    <tr>\n",
       "      <th>4</th>\n",
       "      <td>5</td>\n",
       "      <td>33</td>\n",
       "      <td>F</td>\n",
       "      <td>other</td>\n",
       "      <td>15213</td>\n",
       "    </tr>\n",
       "    <tr>\n",
       "      <th>...</th>\n",
       "      <td>...</td>\n",
       "      <td>...</td>\n",
       "      <td>...</td>\n",
       "      <td>...</td>\n",
       "      <td>...</td>\n",
       "    </tr>\n",
       "    <tr>\n",
       "      <th>938</th>\n",
       "      <td>939</td>\n",
       "      <td>26</td>\n",
       "      <td>F</td>\n",
       "      <td>student</td>\n",
       "      <td>33319</td>\n",
       "    </tr>\n",
       "    <tr>\n",
       "      <th>939</th>\n",
       "      <td>940</td>\n",
       "      <td>32</td>\n",
       "      <td>M</td>\n",
       "      <td>administrator</td>\n",
       "      <td>02215</td>\n",
       "    </tr>\n",
       "    <tr>\n",
       "      <th>940</th>\n",
       "      <td>941</td>\n",
       "      <td>20</td>\n",
       "      <td>M</td>\n",
       "      <td>student</td>\n",
       "      <td>97229</td>\n",
       "    </tr>\n",
       "    <tr>\n",
       "      <th>941</th>\n",
       "      <td>942</td>\n",
       "      <td>48</td>\n",
       "      <td>F</td>\n",
       "      <td>librarian</td>\n",
       "      <td>78209</td>\n",
       "    </tr>\n",
       "    <tr>\n",
       "      <th>942</th>\n",
       "      <td>943</td>\n",
       "      <td>22</td>\n",
       "      <td>M</td>\n",
       "      <td>student</td>\n",
       "      <td>77841</td>\n",
       "    </tr>\n",
       "  </tbody>\n",
       "</table>\n",
       "<p>943 rows × 5 columns</p>\n",
       "</div>"
      ],
      "text/plain": [
       "     UserId  Age Gender     Occupation Postcode\n",
       "0         1   24      M     technician    85711\n",
       "1         2   53      F          other    94043\n",
       "2         3   23      M         writer    32067\n",
       "3         4   24      M     technician    43537\n",
       "4         5   33      F          other    15213\n",
       "..      ...  ...    ...            ...      ...\n",
       "938     939   26      F        student    33319\n",
       "939     940   32      M  administrator    02215\n",
       "940     941   20      M        student    97229\n",
       "941     942   48      F      librarian    78209\n",
       "942     943   22      M        student    77841\n",
       "\n",
       "[943 rows x 5 columns]"
      ]
     },
     "execution_count": 8,
     "metadata": {},
     "output_type": "execute_result"
    }
   ],
   "source": [
    "user_df = pd.read_csv('users.txt', delimiter='|', names=['UserId','Age', 'Gender', 'Occupation','Postcode'], encoding='latin1',dtype={'Age':'int64','Gender':'category','Occupation':'category','Postcode':'category'})\n",
    "user_df"
   ]
  },
  {
   "attachments": {},
   "cell_type": "markdown",
   "metadata": {},
   "source": [
    "Let's make some typical checks in order to ensure that our data are valid."
   ]
  },
  {
   "cell_type": "code",
   "execution_count": 9,
   "metadata": {},
   "outputs": [
    {
     "data": {
      "text/plain": [
       "UserId        0\n",
       "Age           0\n",
       "Gender        0\n",
       "Occupation    0\n",
       "Postcode      0\n",
       "dtype: int64"
      ]
     },
     "execution_count": 9,
     "metadata": {},
     "output_type": "execute_result"
    }
   ],
   "source": [
    "user_df.isna().sum()"
   ]
  },
  {
   "cell_type": "code",
   "execution_count": 10,
   "metadata": {},
   "outputs": [
    {
     "name": "stdout",
     "output_type": "stream",
     "text": [
      "<class 'pandas.core.frame.DataFrame'>\n",
      "RangeIndex: 943 entries, 0 to 942\n",
      "Data columns (total 5 columns):\n",
      " #   Column      Non-Null Count  Dtype   \n",
      "---  ------      --------------  -----   \n",
      " 0   UserId      943 non-null    int64   \n",
      " 1   Age         943 non-null    int64   \n",
      " 2   Gender      943 non-null    category\n",
      " 3   Occupation  943 non-null    category\n",
      " 4   Postcode    943 non-null    category\n",
      "dtypes: category(3), int64(2)\n",
      "memory usage: 57.9 KB\n"
     ]
    }
   ],
   "source": [
    "user_df.info()"
   ]
  },
  {
   "attachments": {},
   "cell_type": "markdown",
   "metadata": {},
   "source": [
    "We will now plot age to see if everything makes sense."
   ]
  },
  {
   "cell_type": "code",
   "execution_count": 11,
   "metadata": {},
   "outputs": [
    {
     "name": "stdout",
     "output_type": "stream",
     "text": [
      "           UserId         Age\n",
      "count  943.000000  943.000000\n",
      "mean   472.000000   34.051962\n",
      "std    272.364951   12.192740\n",
      "min      1.000000    7.000000\n",
      "25%    236.500000   25.000000\n",
      "50%    472.000000   31.000000\n",
      "75%    707.500000   43.000000\n",
      "max    943.000000   73.000000\n"
     ]
    },
    {
     "data": {
      "text/plain": [
       "<AxesSubplot: ylabel='Frequency'>"
      ]
     },
     "execution_count": 11,
     "metadata": {},
     "output_type": "execute_result"
    },
    {
     "data": {
      "image/png": "[encoded data removed]",
      "text/plain": [
       "<Figure size 640x480 with 1 Axes>"
      ]
     },
     "metadata": {},
     "output_type": "display_data"
    }
   ],
   "source": [
    "print(user_df.describe())\n",
    "user_df['Age'].plot.hist(bins=11)"
   ]
  },
  {
   "attachments": {},
   "cell_type": "markdown",
   "metadata": {},
   "source": [
    "Let's see some descriptions about the categorical variables."
   ]
  },
  {
   "cell_type": "code",
   "execution_count": 12,
   "metadata": {},
   "outputs": [
    {
     "data": {
      "text/html": [
       "<div>\n",
       "<style scoped>\n",
       "    .dataframe tbody tr th:only-of-type {\n",
       "        vertical-align: middle;\n",
       "    }\n",
       "\n",
       "    .dataframe tbody tr th {\n",
       "        vertical-align: top;\n",
       "    }\n",
       "\n",
       "    .dataframe thead th {\n",
       "        text-align: right;\n",
       "    }\n",
       "</style>\n",
       "<table border=\"1\" class=\"dataframe\">\n",
       "  <thead>\n",
       "    <tr style=\"text-align: right;\">\n",
       "      <th></th>\n",
       "      <th>Gender</th>\n",
       "      <th>Occupation</th>\n",
       "      <th>Postcode</th>\n",
       "    </tr>\n",
       "  </thead>\n",
       "  <tbody>\n",
       "    <tr>\n",
       "      <th>count</th>\n",
       "      <td>943</td>\n",
       "      <td>943</td>\n",
       "      <td>943</td>\n",
       "    </tr>\n",
       "    <tr>\n",
       "      <th>unique</th>\n",
       "      <td>2</td>\n",
       "      <td>21</td>\n",
       "      <td>795</td>\n",
       "    </tr>\n",
       "    <tr>\n",
       "      <th>top</th>\n",
       "      <td>M</td>\n",
       "      <td>student</td>\n",
       "      <td>55414</td>\n",
       "    </tr>\n",
       "    <tr>\n",
       "      <th>freq</th>\n",
       "      <td>670</td>\n",
       "      <td>196</td>\n",
       "      <td>9</td>\n",
       "    </tr>\n",
       "  </tbody>\n",
       "</table>\n",
       "</div>"
      ],
      "text/plain": [
       "       Gender Occupation Postcode\n",
       "count     943        943      943\n",
       "unique      2         21      795\n",
       "top         M    student    55414\n",
       "freq      670        196        9"
      ]
     },
     "execution_count": 12,
     "metadata": {},
     "output_type": "execute_result"
    }
   ],
   "source": [
    "user_df.describe(include='category')"
   ]
  },
  {
   "attachments": {},
   "cell_type": "markdown",
   "metadata": {},
   "source": [
    "Below, we can see some quick plots in order to see if everything is fine."
   ]
  },
  {
   "cell_type": "code",
   "execution_count": 13,
   "metadata": {},
   "outputs": [
    {
     "name": "stdout",
     "output_type": "stream",
     "text": [
      "M    670\n",
      "F    273\n",
      "Name: Gender, dtype: int64\n"
     ]
    },
    {
     "data": {
      "text/plain": [
       "<AxesSubplot: >"
      ]
     },
     "execution_count": 13,
     "metadata": {},
     "output_type": "execute_result"
    },
    {
     "data": {
      "image/png": "[encoded data removed]",
      "text/plain": [
       "<Figure size 640x480 with 1 Axes>"
      ]
     },
     "metadata": {},
     "output_type": "display_data"
    }
   ],
   "source": [
    "print(user_df['Gender'].value_counts())\n",
    "user_df['Gender'].value_counts().plot.bar(legend=True, rot=0)"
   ]
  },
  {
   "cell_type": "code",
   "execution_count": 14,
   "metadata": {},
   "outputs": [
    {
     "name": "stdout",
     "output_type": "stream",
     "text": [
      "student          196\n",
      "other            105\n",
      "educator          95\n",
      "administrator     79\n",
      "engineer          67\n",
      "programmer        66\n",
      "librarian         51\n",
      "writer            45\n",
      "executive         32\n",
      "scientist         31\n",
      "artist            28\n",
      "technician        27\n",
      "marketing         26\n",
      "entertainment     18\n",
      "healthcare        16\n",
      "retired           14\n",
      "lawyer            12\n",
      "salesman          12\n",
      "none               9\n",
      "homemaker          7\n",
      "doctor             7\n",
      "Name: Occupation, dtype: int64\n"
     ]
    },
    {
     "data": {
      "text/plain": [
       "<AxesSubplot: >"
      ]
     },
     "execution_count": 14,
     "metadata": {},
     "output_type": "execute_result"
    },
    {
     "data": {
      "image/png": "[encoded data removed]",
      "text/plain": [
       "<Figure size 640x480 with 1 Axes>"
      ]
     },
     "metadata": {},
     "output_type": "display_data"
    }
   ],
   "source": [
    "print(user_df['Occupation'].value_counts())\n",
    "user_df['Occupation'].value_counts().plot.bar(legend=True, rot=80)"
   ]
  },
  {
   "cell_type": "code",
   "execution_count": 15,
   "metadata": {},
   "outputs": [
    {
     "name": "stdout",
     "output_type": "stream",
     "text": [
      "55414    9\n",
      "55105    6\n",
      "20009    5\n",
      "55337    5\n",
      "10003    5\n",
      "        ..\n",
      "33205    1\n",
      "33308    1\n",
      "33319    1\n",
      "33484    1\n",
      "Y1A6B    1\n",
      "Name: Postcode, Length: 795, dtype: int64\n"
     ]
    }
   ],
   "source": [
    "print(user_df['Postcode'].value_counts())\n",
    "#user_df['Postcode'].value_counts().plot.bar(legend=True, rot=90)"
   ]
  },
  {
   "attachments": {},
   "cell_type": "markdown",
   "metadata": {},
   "source": [
    "Moving on, we need the *rating_df* in order to proceed to the similarities.<br>\n",
    "Now, we have *Tab* as a delimiter and we only need *UserID* and the *MovieId* they have rated."
   ]
  },
  {
   "cell_type": "code",
   "execution_count": 16,
   "metadata": {},
   "outputs": [
    {
     "data": {
      "text/html": [
       "<div>\n",
       "<style scoped>\n",
       "    .dataframe tbody tr th:only-of-type {\n",
       "        vertical-align: middle;\n",
       "    }\n",
       "\n",
       "    .dataframe tbody tr th {\n",
       "        vertical-align: top;\n",
       "    }\n",
       "\n",
       "    .dataframe thead th {\n",
       "        text-align: right;\n",
       "    }\n",
       "</style>\n",
       "<table border=\"1\" class=\"dataframe\">\n",
       "  <thead>\n",
       "    <tr style=\"text-align: right;\">\n",
       "      <th></th>\n",
       "      <th>UserId</th>\n",
       "      <th>MovieId</th>\n",
       "    </tr>\n",
       "  </thead>\n",
       "  <tbody>\n",
       "    <tr>\n",
       "      <th>0</th>\n",
       "      <td>196</td>\n",
       "      <td>242</td>\n",
       "    </tr>\n",
       "    <tr>\n",
       "      <th>1</th>\n",
       "      <td>186</td>\n",
       "      <td>302</td>\n",
       "    </tr>\n",
       "    <tr>\n",
       "      <th>2</th>\n",
       "      <td>22</td>\n",
       "      <td>377</td>\n",
       "    </tr>\n",
       "    <tr>\n",
       "      <th>3</th>\n",
       "      <td>244</td>\n",
       "      <td>51</td>\n",
       "    </tr>\n",
       "    <tr>\n",
       "      <th>4</th>\n",
       "      <td>166</td>\n",
       "      <td>346</td>\n",
       "    </tr>\n",
       "    <tr>\n",
       "      <th>...</th>\n",
       "      <td>...</td>\n",
       "      <td>...</td>\n",
       "    </tr>\n",
       "    <tr>\n",
       "      <th>99995</th>\n",
       "      <td>880</td>\n",
       "      <td>476</td>\n",
       "    </tr>\n",
       "    <tr>\n",
       "      <th>99996</th>\n",
       "      <td>716</td>\n",
       "      <td>204</td>\n",
       "    </tr>\n",
       "    <tr>\n",
       "      <th>99997</th>\n",
       "      <td>276</td>\n",
       "      <td>1090</td>\n",
       "    </tr>\n",
       "    <tr>\n",
       "      <th>99998</th>\n",
       "      <td>13</td>\n",
       "      <td>225</td>\n",
       "    </tr>\n",
       "    <tr>\n",
       "      <th>99999</th>\n",
       "      <td>12</td>\n",
       "      <td>203</td>\n",
       "    </tr>\n",
       "  </tbody>\n",
       "</table>\n",
       "<p>100000 rows × 2 columns</p>\n",
       "</div>"
      ],
      "text/plain": [
       "       UserId  MovieId\n",
       "0         196      242\n",
       "1         186      302\n",
       "2          22      377\n",
       "3         244       51\n",
       "4         166      346\n",
       "...       ...      ...\n",
       "99995     880      476\n",
       "99996     716      204\n",
       "99997     276     1090\n",
       "99998      13      225\n",
       "99999      12      203\n",
       "\n",
       "[100000 rows x 2 columns]"
      ]
     },
     "execution_count": 16,
     "metadata": {},
     "output_type": "execute_result"
    }
   ],
   "source": [
    "rating_df = pd.read_csv('ratings.txt', delimiter='\\t', names=[ 'UserId', 'MovieId', 'Rating', 'DateTime'], encoding='latin1')\n",
    "#rating_df['DateTime'] = pd.to_datetime(rating_df['DateTime'], unit='s')\n",
    "rating_df.drop(['Rating', 'DateTime'],axis=1, inplace=True)\n",
    "rating_df"
   ]
  },
  {
   "attachments": {},
   "cell_type": "markdown",
   "metadata": {},
   "source": [
    "Let's make some typical checks for a last time."
   ]
  },
  {
   "cell_type": "code",
   "execution_count": 17,
   "metadata": {},
   "outputs": [
    {
     "data": {
      "text/plain": [
       "UserId     0\n",
       "MovieId    0\n",
       "dtype: int64"
      ]
     },
     "execution_count": 17,
     "metadata": {},
     "output_type": "execute_result"
    }
   ],
   "source": [
    "rating_df.isna().sum()"
   ]
  },
  {
   "cell_type": "code",
   "execution_count": 18,
   "metadata": {},
   "outputs": [
    {
     "data": {
      "text/html": [
       "<div>\n",
       "<style scoped>\n",
       "    .dataframe tbody tr th:only-of-type {\n",
       "        vertical-align: middle;\n",
       "    }\n",
       "\n",
       "    .dataframe tbody tr th {\n",
       "        vertical-align: top;\n",
       "    }\n",
       "\n",
       "    .dataframe thead th {\n",
       "        text-align: right;\n",
       "    }\n",
       "</style>\n",
       "<table border=\"1\" class=\"dataframe\">\n",
       "  <thead>\n",
       "    <tr style=\"text-align: right;\">\n",
       "      <th></th>\n",
       "      <th>UserId</th>\n",
       "      <th>MovieId</th>\n",
       "    </tr>\n",
       "  </thead>\n",
       "  <tbody>\n",
       "    <tr>\n",
       "      <th>count</th>\n",
       "      <td>100000.00</td>\n",
       "      <td>100000.00</td>\n",
       "    </tr>\n",
       "    <tr>\n",
       "      <th>mean</th>\n",
       "      <td>462.48</td>\n",
       "      <td>425.53</td>\n",
       "    </tr>\n",
       "    <tr>\n",
       "      <th>std</th>\n",
       "      <td>266.61</td>\n",
       "      <td>330.80</td>\n",
       "    </tr>\n",
       "    <tr>\n",
       "      <th>min</th>\n",
       "      <td>1.00</td>\n",
       "      <td>1.00</td>\n",
       "    </tr>\n",
       "    <tr>\n",
       "      <th>25%</th>\n",
       "      <td>254.00</td>\n",
       "      <td>175.00</td>\n",
       "    </tr>\n",
       "    <tr>\n",
       "      <th>50%</th>\n",
       "      <td>447.00</td>\n",
       "      <td>322.00</td>\n",
       "    </tr>\n",
       "    <tr>\n",
       "      <th>75%</th>\n",
       "      <td>682.00</td>\n",
       "      <td>631.00</td>\n",
       "    </tr>\n",
       "    <tr>\n",
       "      <th>max</th>\n",
       "      <td>943.00</td>\n",
       "      <td>1682.00</td>\n",
       "    </tr>\n",
       "  </tbody>\n",
       "</table>\n",
       "</div>"
      ],
      "text/plain": [
       "          UserId    MovieId\n",
       "count  100000.00  100000.00\n",
       "mean      462.48     425.53\n",
       "std       266.61     330.80\n",
       "min         1.00       1.00\n",
       "25%       254.00     175.00\n",
       "50%       447.00     322.00\n",
       "75%       682.00     631.00\n",
       "max       943.00    1682.00"
      ]
     },
     "execution_count": 18,
     "metadata": {},
     "output_type": "execute_result"
    }
   ],
   "source": [
    "round(rating_df.describe(),2)"
   ]
  },
  {
   "cell_type": "code",
   "execution_count": 19,
   "metadata": {},
   "outputs": [
    {
     "data": {
      "text/plain": [
       "50      583\n",
       "258     509\n",
       "100     508\n",
       "181     507\n",
       "294     485\n",
       "       ... \n",
       "852       1\n",
       "1505      1\n",
       "1653      1\n",
       "1452      1\n",
       "1641      1\n",
       "Name: MovieId, Length: 1682, dtype: int64"
      ]
     },
     "execution_count": 19,
     "metadata": {},
     "output_type": "execute_result"
    }
   ],
   "source": [
    "rating_df['MovieId'].value_counts()"
   ]
  },
  {
   "attachments": {},
   "cell_type": "markdown",
   "metadata": {},
   "source": [
    "Now, we need to replace __*duplicated Movie Ids*__ in order to have the right movie user has rated."
   ]
  },
  {
   "cell_type": "code",
   "execution_count": 20,
   "metadata": {},
   "outputs": [],
   "source": [
    "rating_df['MovieId'] = rating_df['MovieId'].replace(deleted_movie_ids)"
   ]
  },
  {
   "attachments": {},
   "cell_type": "markdown",
   "metadata": {},
   "source": [
    "Our changes were made because as we can see below, mean was changed."
   ]
  },
  {
   "cell_type": "code",
   "execution_count": 21,
   "metadata": {},
   "outputs": [
    {
     "data": {
      "text/html": [
       "<div>\n",
       "<style scoped>\n",
       "    .dataframe tbody tr th:only-of-type {\n",
       "        vertical-align: middle;\n",
       "    }\n",
       "\n",
       "    .dataframe tbody tr th {\n",
       "        vertical-align: top;\n",
       "    }\n",
       "\n",
       "    .dataframe thead th {\n",
       "        text-align: right;\n",
       "    }\n",
       "</style>\n",
       "<table border=\"1\" class=\"dataframe\">\n",
       "  <thead>\n",
       "    <tr style=\"text-align: right;\">\n",
       "      <th></th>\n",
       "      <th>UserId</th>\n",
       "      <th>MovieId</th>\n",
       "    </tr>\n",
       "  </thead>\n",
       "  <tbody>\n",
       "    <tr>\n",
       "      <th>count</th>\n",
       "      <td>100000.00</td>\n",
       "      <td>100000.00</td>\n",
       "    </tr>\n",
       "    <tr>\n",
       "      <th>mean</th>\n",
       "      <td>462.48</td>\n",
       "      <td>425.03</td>\n",
       "    </tr>\n",
       "    <tr>\n",
       "      <th>std</th>\n",
       "      <td>266.61</td>\n",
       "      <td>330.56</td>\n",
       "    </tr>\n",
       "    <tr>\n",
       "      <th>min</th>\n",
       "      <td>1.00</td>\n",
       "      <td>1.00</td>\n",
       "    </tr>\n",
       "    <tr>\n",
       "      <th>25%</th>\n",
       "      <td>254.00</td>\n",
       "      <td>175.00</td>\n",
       "    </tr>\n",
       "    <tr>\n",
       "      <th>50%</th>\n",
       "      <td>447.00</td>\n",
       "      <td>321.00</td>\n",
       "    </tr>\n",
       "    <tr>\n",
       "      <th>75%</th>\n",
       "      <td>682.00</td>\n",
       "      <td>630.00</td>\n",
       "    </tr>\n",
       "    <tr>\n",
       "      <th>max</th>\n",
       "      <td>943.00</td>\n",
       "      <td>1682.00</td>\n",
       "    </tr>\n",
       "  </tbody>\n",
       "</table>\n",
       "</div>"
      ],
      "text/plain": [
       "          UserId    MovieId\n",
       "count  100000.00  100000.00\n",
       "mean      462.48     425.03\n",
       "std       266.61     330.56\n",
       "min         1.00       1.00\n",
       "25%       254.00     175.00\n",
       "50%       447.00     321.00\n",
       "75%       682.00     630.00\n",
       "max       943.00    1682.00"
      ]
     },
     "execution_count": 21,
     "metadata": {},
     "output_type": "execute_result"
    }
   ],
   "source": [
    "round(rating_df.describe(),2)"
   ]
  },
  {
   "cell_type": "code",
   "execution_count": 22,
   "metadata": {},
   "outputs": [
    {
     "data": {
      "text/plain": [
       "50      583\n",
       "258     509\n",
       "100     508\n",
       "181     507\n",
       "294     485\n",
       "       ... \n",
       "1363      1\n",
       "1339      1\n",
       "1570      1\n",
       "1614      1\n",
       "1641      1\n",
       "Name: MovieId, Length: 1664, dtype: int64"
      ]
     },
     "execution_count": 22,
     "metadata": {},
     "output_type": "execute_result"
    }
   ],
   "source": [
    "rating_df['MovieId'].value_counts()"
   ]
  },
  {
   "attachments": {},
   "cell_type": "markdown",
   "metadata": {},
   "source": [
    "## $2^{nd}$ Question : Compute exact Jaccard similarity of users<a class=\"anchor\" id=\"q2\"></a>\n",
    "I will create a **_user_movies_** dictionary with each user and the movies he has rated."
   ]
  },
  {
   "cell_type": "code",
   "execution_count": 23,
   "metadata": {},
   "outputs": [
    {
     "data": {
      "text/plain": [
       "{196: {8,\n",
       "  13,\n",
       "  25,\n",
       "  66,\n",
       "  67,\n",
       "  70,\n",
       "  94,\n",
       "  108,\n",
       "  110,\n",
       "  111,\n",
       "  116,\n",
       "  153,\n",
       "  173,\n",
       "  202,\n",
       "  238,\n",
       "  242,\n",
       "  251,\n",
       "  257,\n",
       "  269,\n",
       "  285,\n",
       "  286,\n",
       "  287,\n",
       "  306,\n",
       "  340,\n",
       "  381,\n",
       "  382,\n",
       "  393,\n",
       "  411,\n",
       "  428,\n",
       "  580,\n",
       "  655,\n",
       "  663,\n",
       "  692,\n",
       "  762,\n",
       "  845,\n",
       "  1007,\n",
       "  1022,\n",
       "  1118,\n",
       "  1241},\n",
       " 186: {12,\n",
       "  31,\n",
       "  38,\n",
       "  44,\n",
       "  53,\n",
       "  55,\n",
       "  56,\n",
       "  71,\n",
       "  77,\n",
       "  79,\n",
       "  95,\n",
       "  98,\n",
       "  100,\n",
       "  106,\n",
       "  117,\n",
       "  118,\n",
       "  121,\n",
       "  147,\n",
       "  148,\n",
       "  159,\n",
       "  177,\n",
       "  203,\n",
       "  225,\n",
       "  226,\n",
       "  237,\n",
       "  243,\n",
       "  250,\n",
       "  257,\n",
       "  258,\n",
       "  263,\n",
       "  269,\n",
       "  281,\n",
       "  288,\n",
       "  291,\n",
       "  294,\n",
       "  295,\n",
       "  297,\n",
       "  298,\n",
       "  299,\n",
       "  300,\n",
       "  302,\n",
       "  306,\n",
       "  322,\n",
       "  327,\n",
       "  330,\n",
       "  331,\n",
       "  332,\n",
       "  333,\n",
       "  338,\n",
       "  356,\n",
       "  385,\n",
       "  405,\n",
       "  406,\n",
       "  470,\n",
       "  477,\n",
       "  540,\n",
       "  546,\n",
       "  550,\n",
       "  554,\n",
       "  566,\n",
       "  568,\n",
       "  588,\n",
       "  591,\n",
       "  595,\n",
       "  596,\n",
       "  684,\n",
       "  689,\n",
       "  717,\n",
       "  742,\n",
       "  754,\n",
       "  770,\n",
       "  820,\n",
       "  829,\n",
       "  880,\n",
       "  887,\n",
       "  925,\n",
       "  934,\n",
       "  939,\n",
       "  977,\n",
       "  983,\n",
       "  988,\n",
       "  1016,\n",
       "  1033,\n",
       "  1042,\n",
       "  1046,\n",
       "  1083,\n",
       "  1213,\n",
       "  1253,\n",
       "  1277,\n",
       "  1336,\n",
       "  1385,\n",
       "  1399}}"
      ]
     },
     "execution_count": 23,
     "metadata": {},
     "output_type": "execute_result"
    }
   ],
   "source": [
    "# Create dictionaries to map UserId to MovieId sets\n",
    "user_movies = {}\n",
    "for _, row in rating_df.iterrows():\n",
    "    user_id = row['UserId']\n",
    "    movie_id = row['MovieId']\n",
    "    if user_id not in user_movies:\n",
    "        user_movies[user_id] = set()\n",
    "    user_movies[user_id].add(movie_id)\n",
    "#user_movies\n",
    "dict(list(user_movies.items())[0:2])"
   ]
  },
  {
   "attachments": {},
   "cell_type": "markdown",
   "metadata": {},
   "source": [
    "Then, I will also create a **_movie_titles_** dictionary for mapping the *MovieId* with the *Title*."
   ]
  },
  {
   "cell_type": "code",
   "execution_count": 24,
   "metadata": {},
   "outputs": [
    {
     "data": {
      "text/plain": [
       "{1: 'Toy Story (1995)',\n",
       " 2: 'GoldenEye (1995)',\n",
       " 3: 'Four Rooms (1995)',\n",
       " 4: 'Get Shorty (1995)',\n",
       " 5: 'Copycat (1995)',\n",
       " 6: 'Shanghai Triad (Yao a yao yao dao waipo qiao) (1995)',\n",
       " 7: 'Twelve Monkeys (1995)',\n",
       " 8: 'Babe (1995)',\n",
       " 9: 'Dead Man Walking (1995)',\n",
       " 10: 'Richard III (1995)'}"
      ]
     },
     "execution_count": 24,
     "metadata": {},
     "output_type": "execute_result"
    }
   ],
   "source": [
    "# Create dictionaries to map MovieId to movie titles\n",
    "movie_titles = {}\n",
    "for _, row in movies_df.iterrows():\n",
    "    movie_id = row['MovieId']\n",
    "    movie_title = row['Title (Release Year)']\n",
    "    movie_titles[movie_id] = movie_title\n",
    "#movie_titles\n",
    "dict(list(movie_titles.items())[0:10])"
   ]
  },
  {
   "attachments": {},
   "cell_type": "markdown",
   "metadata": {},
   "source": [
    "Now, we will write a function which computes the **_jaccard similarity_**:"
   ]
  },
  {
   "cell_type": "code",
   "execution_count": 25,
   "metadata": {},
   "outputs": [],
   "source": [
    "def jaccard_similarity(set1, set2):\n",
    "    intersection = len(set1.intersection(set2))\n",
    "    union = len(set1.union(set2))\n",
    "    similarity = intersection / union\n",
    "    return similarity"
   ]
  },
  {
   "attachments": {},
   "cell_type": "markdown",
   "metadata": {},
   "source": [
    "Now, we need a function which calculates the *jaccard similarity* for all users and keeps the pairs that have equal or greater than **_50% similarity_**:"
   ]
  },
  {
   "cell_type": "code",
   "execution_count": 26,
   "metadata": {},
   "outputs": [],
   "source": [
    "def find_similar_pairs(user_movies):\n",
    "    similar_pairs = []\n",
    "    all_jaccard_pairs = []\n",
    "\n",
    "    # Compute Jaccard similarity for all pairs of users\n",
    "    for user1, user2 in combinations(user_movies.keys(), 2):\n",
    "        movies1 = user_movies[user1]\n",
    "        movies2 = user_movies[user2]\n",
    "        similarity = jaccard_similarity(movies1, movies2)\n",
    "        all_jaccard_pairs.append((user1, user2, similarity))\n",
    "        if similarity >= 0.5:\n",
    "            similar_pairs.append((user1, user2, similarity))\n",
    "\n",
    "    return similar_pairs, all_jaccard_pairs"
   ]
  },
  {
   "attachments": {},
   "cell_type": "markdown",
   "metadata": {},
   "source": [
    "Finally, we will create a function which calculates the *common movies* **2** users have seen:"
   ]
  },
  {
   "cell_type": "code",
   "execution_count": 27,
   "metadata": {},
   "outputs": [],
   "source": [
    "def get_common_movie_titles(user1_movies, user2_movies, movie_titles):\n",
    "    common_movies = user1_movies.intersection(user2_movies)\n",
    "    common_movie_titles = [movie_titles[movie_id] for movie_id in common_movies]\n",
    "    return common_movie_titles"
   ]
  },
  {
   "attachments": {},
   "cell_type": "markdown",
   "metadata": {},
   "source": [
    "Below is a function which calculates the *distinct movies* **2** users have seen:"
   ]
  },
  {
   "cell_type": "code",
   "execution_count": 28,
   "metadata": {},
   "outputs": [],
   "source": [
    "def get_different_movie_titles(user1_movies, user2_movies, movie_titles):\n",
    "    diff_movies = user1_movies.difference(user2_movies)\n",
    "    diff_movie_titles = [movie_titles[movie_id] for movie_id in diff_movies]\n",
    "    return diff_movie_titles"
   ]
  },
  {
   "attachments": {},
   "cell_type": "markdown",
   "metadata": {},
   "source": [
    "Now, we need to execute all the aboves in order to have our result with the users:"
   ]
  },
  {
   "cell_type": "code",
   "execution_count": 29,
   "metadata": {},
   "outputs": [
    {
     "name": "stdout",
     "output_type": "stream",
     "text": [
      "Pairs of Users with Similarity >= 0.5:\n",
      "Users 408 and 898 have a Jaccard similarity of 0.839\n",
      "Users 328 and 788 have a Jaccard similarity of 0.673\n",
      "Users 489 and 587 have a Jaccard similarity of 0.624\n",
      "Users 600 and 826 have a Jaccard similarity of 0.545\n",
      "Users 451 and 489 have a Jaccard similarity of 0.526\n",
      "Users 674 and 879 have a Jaccard similarity of 0.522\n",
      "Users 554 and 764 have a Jaccard similarity of 0.517\n",
      "Users 197 and 826 have a Jaccard similarity of 0.513\n",
      "Users 197 and 600 have a Jaccard similarity of 0.5\n",
      "Users 800 and 879 have a Jaccard similarity of 0.5\n",
      "\n",
      "Common movies for User 408 and User 898 which is the most similar pair are:\n",
      "Contact (1997), Gattaca (1997), Starship Troopers (1997), Indian Summer (1996), Good Will Hunting (1997), Mouse Hunt (1997), English Patient, The (1996), Scream (1996), Rocket Man (1997), Air Force One (1997), L.A. Confidential (1997), Jackal, The (1997), Rainmaker, The (1997), Midnight in the Garden of Good and Evil (1997), Titanic (1997), Apt Pupil (1998), Everyone Says I Love You (1996), Lost Highway (1997), Cop Land (1997), Conspiracy Theory (1997), U Turn (1997), Wag the Dog (1997), Spawn (1997), Saint, The (1997), Tomorrow Never Dies (1997), Kolya (1996)\n",
      "\n",
      "User 408 has also see other than the common:\n",
      "Liar Liar (1997)\n",
      "\n",
      "User 898 has also see other than the common:\n",
      "Jungle2Jungle (1997), As Good As It Gets (1997), Deceiver (1997), Alien: Resurrection (1997)\n"
     ]
    }
   ],
   "source": [
    "# Compute similar pairs\n",
    "similar_pairs, all_jaccard_pairs = find_similar_pairs(user_movies)\n",
    "\n",
    "# Compute unsimilar pairs\n",
    "# unsimilar_pairs = find_unsimilar_pairs(user_movies)\n",
    "\n",
    "# Sort similar pairs by similarity score in descending order\n",
    "similar_pairs.sort(key=lambda x: x[2], reverse=True)\n",
    "\n",
    "# Output the pairs of users with similarity >= 0.5 and the movie titles\n",
    "print(\"Pairs of Users with Similarity >= 0.5:\")\n",
    "for user1, user2, similarity in similar_pairs:\n",
    "    print(f\"Users {user1} and {user2} have a Jaccard similarity of {round(similarity,3)}\")\n",
    "\n",
    "# Get the movie titles for the most similar pair of users\n",
    "most_similar_pair = similar_pairs[0]\n",
    "user1, user2, similarity = most_similar_pair\n",
    "\n",
    "print(f\"\\nCommon movies for User {user1} and User {user2} which is the most similar pair are:\")\n",
    "print(', '.join(get_common_movie_titles(user_movies[user1], user_movies[user2], movie_titles)))\n",
    "print(f\"\\nUser {user1} has also see other than the common:\")\n",
    "print(', '.join(get_different_movie_titles(user_movies[user1], user_movies[user2], movie_titles)))\n",
    "print(f\"\\nUser {user2} has also see other than the common:\")\n",
    "print(', '.join(get_different_movie_titles(user_movies[user2], user_movies[user1], movie_titles)))"
   ]
  },
  {
   "attachments": {},
   "cell_type": "markdown",
   "metadata": {},
   "source": [
    "## $3^{rd}$ Question : Compute similarity using Min-hash signatures<a class=\"anchor\" id=\"q3\"></a>\n",
    "First of all, we need to create a function for computing random hash functions.<br>\n",
    "Our hash function will have the form: $h_{a,b}(x) = (a*x + b) modulo R$ with R being a large prime number.<br>\n",
    "We will start by creating a function that calculates random *__a__* and *__b__* from $(0,R)$."
   ]
  },
  {
   "cell_type": "code",
   "execution_count": 30,
   "metadata": {},
   "outputs": [],
   "source": [
    "# Generate N random a and b for hash function of the form ha,b(x) = (ax + b) mod prime.\n",
    "def generate_hash_functions(num_hash_functions):\n",
    "    prime = 10**9 + 7\n",
    "    a_values = random.sample(range(1, prime), num_hash_functions)\n",
    "    b_values = random.sample(range(1, prime), num_hash_functions)\n",
    "    hash_functions = list(zip(a_values, b_values))\n",
    "    return hash_functions"
   ]
  },
  {
   "attachments": {},
   "cell_type": "markdown",
   "metadata": {},
   "source": [
    "Then, we will make a function which computes the *__minimum hash signature__*."
   ]
  },
  {
   "cell_type": "code",
   "execution_count": 31,
   "metadata": {},
   "outputs": [],
   "source": [
    "# Function to compute Min-hash signature for a set of movies(minimum of the ha,b(x) = (ax + b) mod prime)\n",
    "def compute_minhash_signature(movies, hash_functions):\n",
    "    signature = []\n",
    "    for a, b in hash_functions:\n",
    "        min_hash = min([(a * movie + b) % (10**9 + 7) for movie in movies])\n",
    "        signature.append(min_hash)\n",
    "    return signature"
   ]
  },
  {
   "attachments": {},
   "cell_type": "markdown",
   "metadata": {},
   "source": [
    "Now, we will need a function which calculates the **_Min-hash similarity_** (with the same way as jaccard similarity):"
   ]
  },
  {
   "cell_type": "code",
   "execution_count": 32,
   "metadata": {},
   "outputs": [],
   "source": [
    "# Function to compute Min-hash similarity\n",
    "def compute_minhash_similarity(signature1, signature2):\n",
    "    num_matches = sum(h1 == h2 for h1, h2 in zip(signature1, signature2))\n",
    "    num_hash_functions = len(signature1)\n",
    "    similarity = num_matches / num_hash_functions\n",
    "    return similarity"
   ]
  },
  {
   "attachments": {},
   "cell_type": "markdown",
   "metadata": {},
   "source": [
    "Below is the code for creating *50*, *100* and *200* hash functions and for each value, we will make *Min-hash similarity* *__5__* times and we will take the *average error* in the end."
   ]
  },
  {
   "cell_type": "code",
   "execution_count": 33,
   "metadata": {},
   "outputs": [],
   "source": [
    "# Define the number of hash functions\n",
    "num_hash_functions = [50, 100, 200]\n",
    "avg_false_positives = {}\n",
    "avg_false_negatives = {}\n",
    "\n",
    "with open('Min-Hash Pairs.txt', 'w') as f, contextlib.redirect_stdout(f):\n",
    "    # Evaluate Min-hash similarity and calculate false positives and false negatives\n",
    "    for num_hashes in num_hash_functions:\n",
    "        false_positives_total = 0\n",
    "        false_negatives_total = 0\n",
    "\n",
    "        for i in range(5):  # Run 5 different times using different hash functions\n",
    "            false_positives = 0\n",
    "            false_negatives = 0\n",
    "\n",
    "            # Compute Min-hash signatures for all users\n",
    "            user_signatures = {}\n",
    "            hash_functions = generate_hash_functions(num_hashes)  # Generate num_hashes hash functions\n",
    "            for user, movies in user_movies.items():\n",
    "                signature = compute_minhash_signature(movies, hash_functions)\n",
    "                user_signatures[user] = signature\n",
    "            print(\"-----------------------------------------------------\")\n",
    "            print(f\"Run {i+1} with {num_hashes} Hash functions\")\n",
    "            for user1, user2, jac_similarity in all_jaccard_pairs:\n",
    "                minhash_similarity = compute_minhash_similarity(user_signatures[user1], user_signatures[user2])\n",
    "                if minhash_similarity >= 0.5:\n",
    "                    print(f\"Users {user1} and {user2} have a Min-Hash similarity of {minhash_similarity}\")\n",
    "                if minhash_similarity >= 0.5 and jac_similarity < 0.5:\n",
    "                    false_positives += 1\n",
    "                elif minhash_similarity < 0.5 and jac_similarity >= 0.5:\n",
    "                    false_negatives += 1\n",
    "\n",
    "            false_positives_total += false_positives\n",
    "            false_negatives_total += false_negatives\n",
    "\n",
    "        avg_false_positives[num_hashes] = false_positives_total/5\n",
    "        avg_false_negatives[num_hashes] = false_negatives_total/5\n",
    "        print(\"-----------------------------------------------------\")"
   ]
  },
  {
   "attachments": {},
   "cell_type": "markdown",
   "metadata": {},
   "source": [
    "Below, you can see the average false positive and average false negative for each of the group of hash functions:"
   ]
  },
  {
   "cell_type": "code",
   "execution_count": 34,
   "metadata": {},
   "outputs": [
    {
     "name": "stdout",
     "output_type": "stream",
     "text": [
      "Number of Hash Functions: 50\n",
      "Average False Positives: 114.6\n",
      "Average False Negatives: 3.6\n",
      "-----------------------------------------------------\n",
      "Number of Hash Functions: 100\n",
      "Average False Positives: 31.4\n",
      "Average False Negatives: 2.6\n",
      "-----------------------------------------------------\n",
      "Number of Hash Functions: 200\n",
      "Average False Positives: 8.8\n",
      "Average False Negatives: 2.4\n",
      "-----------------------------------------------------\n"
     ]
    }
   ],
   "source": [
    "for num_hashes in num_hash_functions:\n",
    "    print(f\"Number of Hash Functions: {num_hashes}\")\n",
    "    print(f\"Average False Positives: {avg_false_positives[num_hashes]}\")\n",
    "    print(f\"Average False Negatives: {avg_false_negatives[num_hashes]}\")\n",
    "    print(\"-----------------------------------------------------\")"
   ]
  },
  {
   "attachments": {},
   "cell_type": "markdown",
   "metadata": {},
   "source": [
    "As we can see above, an increase in number of Hash Functions results to minimize the Average False Positives, leading us to perfrom similaties tests between users even better."
   ]
  },
  {
   "attachments": {},
   "cell_type": "markdown",
   "metadata": {},
   "source": [
    "## $4^{th}$ Question : Locate similar users using LSH index<a class=\"anchor\" id=\"q4\"></a>\n",
    "I will create a *user_movies* dataframe with each user and the movies he has rated.<br>"
   ]
  },
  {
   "cell_type": "code",
   "execution_count": 35,
   "metadata": {},
   "outputs": [],
   "source": [
    "# Function to perform Locality Sensitive Hashing (LSH) with given parameters\n",
    "def perform_lsh(user_signatures, hash_functions, b, r):\n",
    "    bands = []\n",
    "    for i in range(b):\n",
    "        band = {}\n",
    "        for user, signature in user_signatures.items():\n",
    "            band_id = tuple(signature[i*r:(i+1)*r])\n",
    "            if band_id not in band:\n",
    "                band[band_id] = []\n",
    "            band[band_id].append(user)\n",
    "        bands.append(band)\n",
    "    return bands"
   ]
  },
  {
   "cell_type": "code",
   "execution_count": 36,
   "metadata": {},
   "outputs": [],
   "source": [
    "# Define the number of hash functions\n",
    "num_hash_functions = 200\n",
    "avg_true_positives_dict = {}\n",
    "avg_similarity_evaluations_dict = {}\n",
    "\n",
    "# Define LSH instances\n",
    "lsh_instances = [\n",
    "    {'b': 25, 'r': 8},\n",
    "    {'b': 40, 'r': 5}\n",
    "]\n",
    "\n",
    "with open('LSH Pairs.txt', 'w') as f, contextlib.redirect_stdout(f):\n",
    "    for lsh_instance in lsh_instances:\n",
    "        b = lsh_instance['b']\n",
    "        r = lsh_instance['r']\n",
    "\n",
    "        avg_true_positives = 0\n",
    "        avg_similarity_evaluations = 0\n",
    "\n",
    "        for i in range(5):  # Run 5 different times using different hash functions\n",
    "            # Compute Min-hash signatures for all users\n",
    "            user_signatures = {}\n",
    "            hash_functions = generate_hash_functions(num_hash_functions)  # Generate num_hash_functions hash functions\n",
    "            for user, movies in user_movies.items():\n",
    "                signature = compute_minhash_signature(movies, hash_functions)\n",
    "                user_signatures[user] = signature\n",
    "\n",
    "            # Perform Locality Sensitive Hashing (LSH)\n",
    "            bands = perform_lsh(user_signatures, hash_functions, b, r)\n",
    "\n",
    "            # Find similar user pairs with Jaccard similarity at least 0.5\n",
    "            true_positives = set()\n",
    "            similarity_evaluations = 0\n",
    "\n",
    "            for band in bands:\n",
    "                for bucket in band.values():\n",
    "                    if len(bucket) > 1:\n",
    "                        for j in range(len(bucket)):\n",
    "                            for k in range(j+1, len(bucket)):\n",
    "                                user1 = bucket[j]\n",
    "                                user2 = bucket[k]\n",
    "                                jaccard_sim = jaccard_similarity(user_movies[user1], user_movies[user2])\n",
    "                                similarity_evaluations += 1\n",
    "                                if jaccard_sim >= 0.5:\n",
    "                                    true_positives.add((user1, user2))\n",
    "\n",
    "            avg_true_positives += len(true_positives)\n",
    "            avg_similarity_evaluations += similarity_evaluations\n",
    "            print(\"-----------------------------------------------------\")\n",
    "            print(f\"Run {i+1} with LSH Instance: b = {b}, r = {r}\")\n",
    "            print(f\"True Positives: {true_positives}\")\n",
    "            print(f\"Similarity Evaluations: {similarity_evaluations}\")\n",
    "\n",
    "        print(\"-----------------------------------------------------\")\n",
    "        avg_true_positives_dict[(b, r)] = avg_true_positives / 5\n",
    "        avg_similarity_evaluations_dict[(b, r)] = avg_similarity_evaluations / 5"
   ]
  },
  {
   "attachments": {},
   "cell_type": "markdown",
   "metadata": {},
   "source": [
    "Below, you can see the average True Positives and the average similarity evaluations for each instance of LSH."
   ]
  },
  {
   "cell_type": "code",
   "execution_count": 37,
   "metadata": {},
   "outputs": [
    {
     "name": "stdout",
     "output_type": "stream",
     "text": [
      "-----------------------------------------------------\n",
      "LSH Instance: b = 25, r = 8\n",
      "Average True Positives: 2.8\n",
      "Average Similarity Evaluations: 48.2\n",
      "-----------------------------------------------------\n",
      "-----------------------------------------------------\n",
      "LSH Instance: b = 40, r = 5\n",
      "Average True Positives: 8.2\n",
      "Average Similarity Evaluations: 2646.2\n",
      "-----------------------------------------------------\n"
     ]
    }
   ],
   "source": [
    "for lsh_instance in lsh_instances:\n",
    "    b = lsh_instance['b']\n",
    "    r = lsh_instance['r']\n",
    "    print(\"-----------------------------------------------------\")\n",
    "    print(f\"LSH Instance: b = {b}, r = {r}\")\n",
    "    print(f\"Average True Positives: {avg_true_positives_dict[(b, r)]}\")\n",
    "    print(f\"Average Similarity Evaluations: {avg_similarity_evaluations_dict[(b, r)]}\")\n",
    "    print(\"-----------------------------------------------------\")"
   ]
  },
  {
   "attachments": {},
   "cell_type": "markdown",
   "metadata": {},
   "source": [
    "The reported results will provide insights into the effectiveness of LSH compared to directly comparing users based on their true representations.<br>LSH can significantly reduce the number of similarity evaluations by first identifying candidate pairs using the LSH index.<br>This trade-off allows for faster identification of potential similar users while sacrificing some accuracy in terms of false positives and false negatives.<br>By adjusting the values of *b* and *r*, you can control the balance between accuracy and performance in LSH."
   ]
  },
  {
   "attachments": {},
   "cell_type": "markdown",
   "metadata": {},
   "source": [
    "By using LSH, we gain efficiency in terms of the number of similarity evaluations performed. LSH allows us to identify potential similar pairs by hashing them into the same buckets, reducing the number of comparisons needed. We only evaluate the true similarity for the pairs that are in the same bucket, resulting in a significant reduction in the number of similarity evaluations.\n",
    "\n",
    "However, using LSH may introduce false negatives, as some similar pairs might not be hashed into the same bucket. LSH is a trade-off between efficiency and accuracy. By using LSH, we gain computational efficiency by reducing the number of similarity evaluations but may lose some accuracy by potentially missing some true similar pairs."
   ]
  },
  {
   "attachments": {},
   "cell_type": "markdown",
   "metadata": {},
   "source": [
    "The results demonstrate the trade-off between the number of true positives and the number of similarity evaluations when using LSH. The LSH instance with b = 40 and r = 5 achieved a higher average number of true positives but required a significantly larger number of similarity evaluations compared to the LSH instance with b = 25 and r = 8.\n",
    "\n",
    "By using LSH, we gain efficiency in terms of the reduced number of similarity evaluations. However, increasing the number of bands (b) and reducing the number of hash functions per band (r) can lead to a higher chance of false positives and a larger number of similarity evaluations. The choice of b and r depends on the specific requirements of the application, balancing the trade-off between efficiency and accuracy."
   ]
  }
 ],
 "metadata": {
  "kernelspec": {
   "display_name": "Python 3 (ipykernel)",
   "language": "python",
   "name": "python3"
  },
  "language_info": {
   "codemirror_mode": {
    "name": "ipython",
    "version": 3
   },
   "file_extension": ".py",
   "mimetype": "text/x-python",
   "name": "python",
   "nbconvert_exporter": "python",
   "pygments_lexer": "ipython3",
   "version": "3.10.11"
  }
 },
 "nbformat": 4,
 "nbformat_minor": 2
}
